{
 "cells": [
  {
   "cell_type": "markdown",
   "id": "b3a00b11-e88c-4456-89b2-14fe58e32811",
   "metadata": {
    "tags": []
   },
   "source": [
    "# Data Science Tools and Ecosystem"
   ]
  },
  {
   "cell_type": "markdown",
   "id": "d083fa29-dea5-40f8-b57c-75c530ea5589",
   "metadata": {},
   "source": [
    "In this notebook, Data Science Tools and Ecosystem are summarized."
   ]
  },
  {
   "cell_type": "markdown",
   "id": "4ebce757-d428-422d-8a60-4984d07ded56",
   "metadata": {},
   "source": [
    "**Objectives:**\n",
    "\n",
    "    - Popular data science languages\n",
    "    - commonly used data science libraries\n",
    "    - examples of arithmetic expressions\n",
    "    - code outputs"
   ]
  },
  {
   "cell_type": "markdown",
   "id": "7b18786e-3cbf-4696-80ae-2ba2cae692ec",
   "metadata": {},
   "source": [
    "Some of the popular languages that Data Scientists use are:\n",
    "\n",
    "    1- Python\n",
    "    2- R\n",
    "    3- Scala\n",
    "    4- Julia"
   ]
  },
  {
   "cell_type": "markdown",
   "id": "64579741-b62a-4bbf-9e3a-2dfc5ba92f3a",
   "metadata": {},
   "source": [
    "Some of the commonly used libraries used by Data Scientists include:\n",
    "\n",
    "    1- Pandas\n",
    "    2- NumPy\n",
    "    3- TensorFlow\n",
    "    4- SciPy\n",
    "    5- Matplotlib"
   ]
  },
  {
   "cell_type": "markdown",
   "id": "3db27224-4338-403a-bf65-1338a211e7f6",
   "metadata": {},
   "source": [
    "|Data Science Tools|\n",
    "|-----|\n",
    "|JupyterLab|\n",
    "|Visual Studio Code|\n",
    "|RStudio|\n"
   ]
  },
  {
   "cell_type": "markdown",
   "id": "acc1f0c4-913e-4e81-92bf-135ece65f448",
   "metadata": {
    "tags": []
   },
   "source": [
    "### Below are a few examples of evaluating arithmetic expressions in Python"
   ]
  },
  {
   "cell_type": "code",
   "execution_count": 1,
   "id": "fa8440f8-5f26-4565-aebf-09f6a6eefe61",
   "metadata": {},
   "outputs": [
    {
     "data": {
      "text/plain": [
       "17"
      ]
     },
     "execution_count": 1,
     "metadata": {},
     "output_type": "execute_result"
    }
   ],
   "source": [
    "#This a simple arithmetic expression to mutiply then add integers\n",
    "(3*4)+5"
   ]
  },
  {
   "cell_type": "code",
   "execution_count": 2,
   "id": "c8d4f179-4137-413c-bb28-b5618681503b",
   "metadata": {},
   "outputs": [
    {
     "data": {
      "text/plain": [
       "3.3333333333333335"
      ]
     },
     "execution_count": 2,
     "metadata": {},
     "output_type": "execute_result"
    }
   ],
   "source": [
    "#This will convert 200 minutes to hours by diving by 60\n",
    "200/60"
   ]
  },
  {
   "cell_type": "markdown",
   "id": "fce0e625-a11f-4c99-b215-579c14d672a3",
   "metadata": {},
   "source": [
    "## Author\n",
    "Pooya Haghshenas Lakani"
   ]
  },
  {
   "cell_type": "code",
   "execution_count": null,
   "id": "54e6c16c-8810-4dc7-9f43-221b22b6741f",
   "metadata": {},
   "outputs": [],
   "source": []
  }
 ],
 "metadata": {
  "kernelspec": {
   "display_name": "Python 3 (ipykernel)",
   "language": "python",
   "name": "python3"
  },
  "language_info": {
   "codemirror_mode": {
    "name": "ipython",
    "version": 3
   },
   "file_extension": ".py",
   "mimetype": "text/x-python",
   "name": "python",
   "nbconvert_exporter": "python",
   "pygments_lexer": "ipython3",
   "version": "3.9.12"
  }
 },
 "nbformat": 4,
 "nbformat_minor": 5
}
